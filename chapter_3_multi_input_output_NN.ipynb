{
 "cells": [
  {
   "cell_type": "markdown",
   "metadata": {},
   "source": [
    "# single input"
   ]
  },
  {
   "cell_type": "code",
   "execution_count": 1,
   "metadata": {},
   "outputs": [],
   "source": [
    "weights = [0.3, 0.2, 0.9]\n",
    "wlrec = [0.65, 0.8, 0.8, 0.9]\n",
    "inp = wlrec[0]\n",
    "\n",
    "def ele_mul(number, vector):\n",
    "    output=[0,0,0]\n",
    "    assert(len(output) == len(vector))\n",
    "    for i in range(len(vector)):\n",
    "        output[i] = number * vector[i]\n",
    "    return output\n",
    "\n",
    "def nn(inp, weights):\n",
    "    return(ele_mul(inp,weights))"
   ]
  },
  {
   "cell_type": "code",
   "execution_count": 2,
   "metadata": {},
   "outputs": [
    {
     "name": "stdout",
     "output_type": "stream",
     "text": [
      "[0.195, 0.13, 0.5850000000000001]\n"
     ]
    }
   ],
   "source": [
    "print(nn(inp,weights))"
   ]
  },
  {
   "cell_type": "markdown",
   "metadata": {},
   "source": [
    "# multi input/output"
   ]
  },
  {
   "cell_type": "code",
   "execution_count": 22,
   "metadata": {},
   "outputs": [],
   "source": [
    "weights = [ [0.1, 0.1, -0.3],# hurt?\n",
    "      [0.1, 0.2, 0.0], # win?\n",
    "      [0.0, 1.3, 0.1] ]# sad?\n",
    "toes =  [8.5, 9.5, 9.9, 9.0]\n",
    "wlrec = [0.65,0.8, 0.8, 0.9]\n",
    "nfans = [1.2, 1.3, 0.5, 1.0]\n",
    "\n",
    "input = [toes[0],wlrec[0],nfans[0]]"
   ]
  },
  {
   "cell_type": "code",
   "execution_count": 23,
   "metadata": {},
   "outputs": [],
   "source": [
    "def w_sum(a,b):\n",
    "    assert(len(a) == len(b))\n",
    "    output = 0\n",
    "    for i in range(len(a)):\n",
    "        output += (a[i] * b[i])\n",
    "    return output\n",
    "\n",
    "\n",
    "def vect_mat_mul(vect,matrix):\n",
    "    assert(len(vect) == len(matrix))\n",
    "    output = [0,0,0]\n",
    "    for i in range(len(vect)):\n",
    "        output[i] = w_sum(vect,matrix[i])\n",
    "    return output\n",
    "\n",
    "def neural_network(input, weights):\n",
    "    pred = vect_mat_mul(input,weights)\n",
    "    return pred"
   ]
  },
  {
   "cell_type": "code",
   "execution_count": 24,
   "metadata": {},
   "outputs": [
    {
     "name": "stdout",
     "output_type": "stream",
     "text": [
      "[0.555, 0.9800000000000001, 0.9650000000000001]\n"
     ]
    }
   ],
   "source": [
    "print(nn(input, weights))"
   ]
  },
  {
   "cell_type": "markdown",
   "metadata": {},
   "source": [
    "## predicting on predictions"
   ]
  },
  {
   "cell_type": "code",
   "execution_count": 25,
   "metadata": {},
   "outputs": [],
   "source": [
    "ih_wgt = [ #input hidden weights\n",
    "    # toes  % win  fans\n",
    "    [0.1,    0.2,   -0.1], # hid[0]\n",
    "    [-0.1,   0.1,    0.9], # hid[1]\n",
    "    [0.1,    0.4,    0.1] # hid[2]\n",
    "]\n",
    "\n",
    "hp_wgt = [\n",
    "    # hid[0]  hid[1]  hid[2]\n",
    "    [0.3,      1.1,    -0.3], # hurt?\n",
    "    [0.1,      0.2,     0.0], # win?\n",
    "    [0.0,      0.2,     0.0] # sad?\n",
    "]\n",
    "\n",
    "weights = [ih_wgt, hp_wgt]"
   ]
  },
  {
   "cell_type": "code",
   "execution_count": 31,
   "metadata": {},
   "outputs": [],
   "source": [
    "def nn(input, weights):\n",
    "    hid = vect_mat_mul(input, weights[0])\n",
    "    print(\"Predicted HIDDEN layer:\",hid)\n",
    "    pred = vect_mat_mul(hid, weights[1])\n",
    "    print(\"Predicted OUTPUT layer:\",pred)"
   ]
  },
  {
   "cell_type": "code",
   "execution_count": 32,
   "metadata": {},
   "outputs": [
    {
     "name": "stdout",
     "output_type": "stream",
     "text": [
      "Predicted HIDDEN layer: [0.8600000000000001, 0.29499999999999993, 1.23]\n",
      "Predicted OUTPUT layer: [0.21350000000000002, 0.14500000000000002, 0.05899999999999999]\n"
     ]
    }
   ],
   "source": [
    "toes =  [8.5, 9.5, 9.9, 9.0]\n",
    "wlrec = [0.65,0.8, 0.8, 0.9]\n",
    "nfans = [1.2, 1.3, 0.5, 1.0]\n",
    "input = [toes[0],wlrec[0],nfans[0]]\n",
    "\n",
    "nn(input, weights)\n"
   ]
  },
  {
   "cell_type": "markdown",
   "metadata": {},
   "source": [
    "# Numpy version"
   ]
  },
  {
   "cell_type": "code",
   "execution_count": 42,
   "metadata": {},
   "outputs": [
    {
     "name": "stdout",
     "output_type": "stream",
     "text": [
      "[0.2135 0.145  0.5065]\n"
     ]
    }
   ],
   "source": [
    "import numpy as np\n",
    "# toes % win # fans\n",
    "ih_wgt = np.array([ \n",
    "            [0.1, 0.2, -0.1], # hid[0]\n",
    "            [-0.1,0.1, 0.9], # hid[1]\n",
    "            [0.1, 0.4, 0.1]]).T # hid[2]\n",
    "# hid[0] hid[1] hid[2]\n",
    "hp_wgt = np.array([  \n",
    "            [0.3, 1.1, -0.3], # hurt?\n",
    "            [0.1, 0.2, 0.0], # win?\n",
    "            [0.0, 1.3, 0.1] ]).T # sad?\n",
    "weights = [ih_wgt, hp_wgt]\n",
    "def neural_network(input, weights):\n",
    "    hid = input.dot(weights[0])\n",
    "    pred = hid.dot(weights[1])\n",
    "    return pred\n",
    "toes =  np.array([8.5, 9.5, 9.9, 9.0])\n",
    "wlrec = np.array([0.65,0.8, 0.8, 0.9])\n",
    "nfans = np.array([1.2, 1.3, 0.5, 1.0])\n",
    "input = np.array([toes[0],wlrec[0],nfans[0]])\n",
    "pred = neural_network(input,weights)\n",
    "print(pred)"
   ]
  },
  {
   "cell_type": "code",
   "execution_count": 38,
   "metadata": {},
   "outputs": [
    {
     "name": "stdout",
     "output_type": "stream",
     "text": [
      "[[1. 4. 7.]\n",
      " [2. 5. 8.]\n",
      " [3. 6. 9.]]\n"
     ]
    }
   ],
   "source": [
    "x = np.array([\n",
    "    [1.,2.,3.],\n",
    "    [4.,5.,6.],\n",
    "    [7.,8.,9.]\n",
    "])\n",
    "print(x.T)"
   ]
  }
 ],
 "metadata": {
  "kernelspec": {
   "display_name": "Python 3",
   "language": "python",
   "name": "python3"
  },
  "language_info": {
   "codemirror_mode": {
    "name": "ipython",
    "version": 3
   },
   "file_extension": ".py",
   "mimetype": "text/x-python",
   "name": "python",
   "nbconvert_exporter": "python",
   "pygments_lexer": "ipython3",
   "version": "3.6.7"
  }
 },
 "nbformat": 4,
 "nbformat_minor": 2
}
