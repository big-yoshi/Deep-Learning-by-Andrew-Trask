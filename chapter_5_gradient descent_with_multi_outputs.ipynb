{
 "cells": [
  {
   "cell_type": "code",
   "execution_count": 1,
   "metadata": {},
   "outputs": [],
   "source": [
    "weights = [0.3, 0.2, 0.9]\n",
    "\n",
    "def ele_mul(scalar, vector):\n",
    "    out = [0,0,0]\n",
    "    for i in range(len(out)):\n",
    "        out[i] = vector[i] * scalar\n",
    "    return out\n",
    "\n",
    "def neural_network(input,weights):\n",
    "    pred = ele_mul(input, weights)\n",
    "    return pred"
   ]
  },
  {
   "cell_type": "code",
   "execution_count": 11,
   "metadata": {},
   "outputs": [],
   "source": [
    "wlrec = [0.65, 1.0, 1.0, 0.9]\n",
    "hurt  = [0.1, 0.0, 0.0, 0.1]\n",
    "win   = [  1,   1,   0,   1]\n",
    "sad  = [0.1, 0.0, 0.1, 0.2]\n",
    "input = wlrec[0]\n",
    "true = [hurt[0], win[0], sad[0]]"
   ]
  },
  {
   "cell_type": "code",
   "execution_count": 12,
   "metadata": {},
   "outputs": [],
   "source": [
    "pred = neural_network(input, weights)\n",
    "\n",
    "error = [0,0,0]\n",
    "delta = [0,0,0]\n"
   ]
  },
  {
   "cell_type": "code",
   "execution_count": 13,
   "metadata": {},
   "outputs": [],
   "source": [
    "for i in range(len(true)):\n",
    "    error[i] = (pred[i] - true[i]) ** 2 # no neg num\n",
    "    delta[i] = pred[i] - true[i]\n",
    "    "
   ]
  },
  {
   "cell_type": "code",
   "execution_count": 20,
   "metadata": {},
   "outputs": [
    {
     "name": "stdout",
     "output_type": "stream",
     "text": [
      "TRUE: [0.1, 1, 0.1]\n",
      "PRED: [0.195, 0.13, 0.5850000000000001]\n",
      "ERROR: [0.009025, 0.7569, 0.2352250000000001]\n",
      "DELTA: [0.095, -0.87, 0.4850000000000001]\n"
     ]
    }
   ],
   "source": [
    "print(\"TRUE:\",true)\n",
    "print(\"PRED:\",pred)\n",
    "print(\"ERROR:\",error)\n",
    "print(\"DELTA:\",delta)"
   ]
  },
  {
   "cell_type": "code",
   "execution_count": 21,
   "metadata": {},
   "outputs": [],
   "source": [
    "def scalar_ele_mul(number, vector):\n",
    "    output = [0,0,0]\n",
    "    assert(len(output) == len(vector))\n",
    "    for i in range(len(vector)):\n",
    "        output[i] = number * vector[i]\n",
    "    return output\n"
   ]
  },
  {
   "cell_type": "code",
   "execution_count": 23,
   "metadata": {},
   "outputs": [],
   "source": [
    "wlrec = [0.65, 1.0, 1.0, 0.9]\n",
    "hurt  = [0.1, 0.0, 0.0, 0.1]\n",
    "win   = [  1,   1,   0,   1]\n",
    "sad  = [0.1, 0.0, 0.1, 0.2]\n",
    "input = wlrec[0]\n",
    "true = [hurt[0], win[0], sad[0]]"
   ]
  },
  {
   "cell_type": "code",
   "execution_count": 24,
   "metadata": {},
   "outputs": [],
   "source": [
    "pred = neural_network(input, weights)\n",
    "error = [0,0,0]\n",
    "delta = [0,0,0]\n",
    "\n",
    "for i in range(len(true)):\n",
    "    error[i] = (pred[i] - true[i]) ** 2\n",
    "    delta[i] = pred[i] = true[i]\n",
    "weight_deltas = scalar_ele_mul(input,weights)\n"
   ]
  },
  {
   "cell_type": "code",
   "execution_count": 25,
   "metadata": {},
   "outputs": [],
   "source": [
    "input = wlrec[0]\n",
    "true = [hurt[0], win[0],sad[0]]\n",
    "pred = neural_network(input, weights)\n",
    "error = [0,0,0]\n",
    "delta = [0,0,0]"
   ]
  },
  {
   "cell_type": "code",
   "execution_count": 27,
   "metadata": {},
   "outputs": [],
   "source": [
    "for i in range(len(true)):\n",
    "    error[i] =(pred[i] - true[i])** 2\n",
    "    delta[i] = pred[i] - true[i]\n",
    "weight_deltas = scalar_ele_mul(input, weights)\n",
    "alpha = 0.1\n"
   ]
  },
  {
   "cell_type": "code",
   "execution_count": 28,
   "metadata": {},
   "outputs": [
    {
     "name": "stdout",
     "output_type": "stream",
     "text": [
      "Weights: [0.28049999999999997, 0.2, 0.9]\n",
      "Weight Deltas: [0.195, 0.13, 0.5850000000000001]\n",
      "Weights: [0.28049999999999997, 0.187, 0.9]\n",
      "Weight Deltas: [0.195, 0.13, 0.5850000000000001]\n",
      "Weights: [0.28049999999999997, 0.187, 0.8415]\n",
      "Weight Deltas: [0.195, 0.13, 0.5850000000000001]\n"
     ]
    }
   ],
   "source": [
    "for i in range(len(weights)):\n",
    "    weights[i] -= (weight_deltas[i] * alpha)\n",
    "    print(\"Weights:\",weights)\n",
    "    print(\"Weight Deltas:\",weight_deltas)\n",
    "    "
   ]
  },
  {
   "cell_type": "code",
   "execution_count": null,
   "metadata": {},
   "outputs": [],
   "source": []
  }
 ],
 "metadata": {
  "kernelspec": {
   "display_name": "Python 3",
   "language": "python",
   "name": "python3"
  },
  "language_info": {
   "codemirror_mode": {
    "name": "ipython",
    "version": 3
   },
   "file_extension": ".py",
   "mimetype": "text/x-python",
   "name": "python",
   "nbconvert_exporter": "python",
   "pygments_lexer": "ipython3",
   "version": "3.6.7"
  }
 },
 "nbformat": 4,
 "nbformat_minor": 2
}
