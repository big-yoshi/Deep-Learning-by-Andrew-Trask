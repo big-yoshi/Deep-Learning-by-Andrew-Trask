{
 "cells": [
  {
   "cell_type": "markdown",
   "metadata": {},
   "source": [
    "# Preprocessing"
   ]
  },
  {
   "cell_type": "code",
   "execution_count": 1,
   "metadata": {},
   "outputs": [],
   "source": [
    "import sys , numpy as np\n",
    "\n",
    "f = open(\"reviews.txt\")\n",
    "raw_reviews = f.readlines()\n",
    "f.close()\n",
    "\n",
    "f = open('labels.txt')\n",
    "raw_labels = f.readlines()\n",
    "f.close()\n",
    "\n",
    "tokens = list(map(lambda x:set(x.split(' ')),raw_reviews))\n",
    "\n",
    "vocab = set()\n",
    "for sent in tokens:\n",
    "    for word in sent:\n",
    "        if(len(word)>0):\n",
    "            vocab.add(word)\n",
    "vocab = list(vocab)\n",
    "\n",
    "word2index = {}\n",
    "index2word = {}\n",
    "for i, word in enumerate(vocab):\n",
    "    word2index[word] = i\n",
    "    index2word[i] = word\n",
    "\n",
    "    \n",
    "input_dataset = list()\n",
    "for sent in tokens:\n",
    "    sent_indices = list()\n",
    "    for word in sent:\n",
    "        try:\n",
    "            sent_indices.append(word2index[word])\n",
    "        except:\n",
    "            \"\"\n",
    "    input_dataset.append(list(set(sent_indices)))\n",
    "\n",
    "target_dataset = list()\n",
    "\n",
    "for label in raw_labels:\n",
    "    if label == \"positive\\n\":\n",
    "        target_dataset.append(1)\n",
    "    else:\n",
    "        target_dataset.append(0)\n",
    "        "
   ]
  },
  {
   "cell_type": "code",
   "execution_count": 2,
   "metadata": {},
   "outputs": [
    {
     "name": "stdout",
     "output_type": "stream",
     "text": [
      "{'', 'knew', 'the', 'in', 'what', 'comedy', 'life', 'than', 'survive', 'of', 'that', 'can', 'welcome', 'bromwell', 'expect', 'programs', 'students', 'which', 'scramble', 'burn', 'think', 'see', 'right', 'profession', 'immediately', 'it', 'pity', 'my', 'believe', 'repeatedly', 'pomp', 'teaching', 'remind', 'down', 'fetched', 'who', 'much', 'at', 'episode', 'pathetic', 'is', 'student', 'isn', 'lead', 'time', '\\n', 'as', 'me', 'insightful', 'satire', 'your', 'cartoon', 'here', 'high', 'whole', 'one', 'pettiness', 'line', 'inspector', 'same', 'closer', 'ran', 'i', 'about', 'many', 'financially', 'situation', 'recalled', 'saw', 'their', 'schools', 'to', 'sack', 'm', 'some', 'a', 'all', 'years', 'adults', 'when', 'such', 'far', 's', 'classic', '.', 'age', 'tried', 'other', 'school', 'reality', 'through', 't', 'and', 'teachers'}\n",
      "[36614, 41228, 53226, 70571, 32940, 55234, 43594, 68870, 64530, 47077, 49104, 40383, 1754, 21380, 64288, 10916, 59930, 50904, 42757, 49459, 60262, 11224, 15838, 31887, 29566, 39892, 15262, 17208, 53011, 15269, 8975, 9242, 70677, 73924, 1244, 57622, 29589, 61964, 47747, 38783, 36737, 28709, 61407, 31942, 54505, 59710, 58818, 25257, 56503, 21480, 53070, 38811, 35107, 68448, 65024, 48662, 58837, 70143, 55975, 48688, 30233, 51916, 11898, 45507, 47272, 38584, 2225, 54299, 50752, 11361, 41760, 11646, 31137, 64163, 9635, 44398, 8790, 25667, 56894, 6415, 69116, 70848, 57468, 36306, 74058, 66298, 27133, 3172, 35207, 44430, 18228, 30026, 45860]\n"
     ]
    }
   ],
   "source": [
    "test = []\n",
    "for sent in tokens:\n",
    "    sentence = list()\n",
    "    print(sent)\n",
    "    for word in sent:\n",
    "        try:\n",
    "            sentence.append(word2index[word])\n",
    "        except:\n",
    "            \"\"\n",
    "        \n",
    "    print(sentence)\n",
    "    break\n",
    "    "
   ]
  },
  {
   "cell_type": "code",
   "execution_count": 3,
   "metadata": {},
   "outputs": [],
   "source": [
    "def sigmoid(x):\n",
    "    return 1/(1+np.exp(-x))"
   ]
  },
  {
   "cell_type": "code",
   "execution_count": 4,
   "metadata": {},
   "outputs": [
    {
     "name": "stdout",
     "output_type": "stream",
     "text": [
      "Iter:0 Progress:95.99% Training Accuracy:0.8334166666666667%%\n",
      "Iter:1 Progress:95.99% Training Accuracy:0.866625%83100646%%\n",
      "Test Accuracy:0.85\n"
     ]
    }
   ],
   "source": [
    "\n",
    "alpha, iterations = (0.01,2)\n",
    "hidden_size = 100\n",
    "\n",
    "weights_0_1 = 0.2 * np.random.random((len(vocab),hidden_size)) -0.1\n",
    "weights_1_2 = 0.2 * np.random.random((hidden_size,1)) - 0.1\n",
    "\n",
    "correct, total = (0,0)\n",
    "for iter in range(iterations):\n",
    "    for i in range(len(input_dataset) - 1000): # train on the first 24k reviews\n",
    "        \n",
    "        x,y  = (input_dataset[i], target_dataset[i]) # embed + sigmoid, softmax + linear\n",
    "        layer_1 = sigmoid(np.sum(weights_0_1[x], axis=0))\n",
    "        layer_2 = sigmoid(np.dot(layer_1, weights_1_2))\n",
    "        \n",
    "        # backprobagation\n",
    "        \n",
    "        layer_2_delta = layer_2 - y\n",
    "        layer_1_delta = layer_2_delta.dot(weights_1_2.T)\n",
    "        \n",
    "        # updating weights\n",
    "        weights_0_1[x] -= layer_1_delta * alpha\n",
    "        weights_1_2 -= np.outer(layer_1, layer_2_delta) * alpha\n",
    "        \n",
    "        if(np.abs(layer_2_delta) < 0.5):\n",
    "            correct += 1\n",
    "        total += 1\n",
    "        if(i % 10 == 9):\n",
    "            progress = str(i/float(len(input_dataset)))\n",
    "            sys.stdout.write('\\rIter:'+str(iter)\\\n",
    "                             +' Progress:'+progress[2:4]\\\n",
    "                             +'.'+progress[4:6]\\\n",
    "                             +'% Training Accuracy:'\\\n",
    "                             + str(correct/float(total)) + '%')\n",
    "    print()\n",
    "correct,total = (0,0)\n",
    "for i in range(len(input_dataset)-1000,len(input_dataset)):\n",
    "    x = input_dataset[i]    \n",
    "    y = target_dataset[i]\n",
    "    layer_1 = sigmoid(np.sum(weights_0_1[x],axis=0))\n",
    "    layer_2 = sigmoid(np.dot(layer_1,weights_1_2))\n",
    "    #print(\"layer_2: \",layer_2, \" y:\",y,\" abs: \",np.abs(layer_2 - y))\n",
    "    if(np.abs(layer_2 - y) < 0.5):\n",
    "        \n",
    "        correct += 1\n",
    "    total += 1\n",
    "print(\"Test Accuracy:\" + str(correct / float(total)))\n",
    "        "
   ]
  },
  {
   "cell_type": "code",
   "execution_count": 5,
   "metadata": {},
   "outputs": [
    {
     "name": "stdout",
     "output_type": "stream",
     "text": [
      "[[ 6  8]\n",
      " [10 12]]\n",
      "[[ 6  8]\n",
      " [10 12]]\n"
     ]
    }
   ],
   "source": [
    "x = np.array( [ [[1,2],[3,4]],[[5,6],[7,8]] ] )\n",
    "\n",
    "xx = np.sum(x,axis=0)\n",
    "\n",
    "print(x[0] + x[1])\n",
    "\n",
    "print(xx)"
   ]
  },
  {
   "cell_type": "code",
   "execution_count": 6,
   "metadata": {},
   "outputs": [],
   "source": [
    "from collections import Counter\n",
    "import math"
   ]
  },
  {
   "cell_type": "code",
   "execution_count": 7,
   "metadata": {},
   "outputs": [],
   "source": [
    "def similar(target=\"beautiful\"):\n",
    "    target_index = word2index[target]\n",
    "    scores = Counter()\n",
    "    for word,index in word2index.items():\n",
    "        raw_difference = weights_0_1[index] - (weights_0_1[target_index])\n",
    "        squared_difference = raw_difference * raw_difference\n",
    "        scores[word] = -math.sqrt(sum(squared_difference))\n",
    "    return scores.most_common(10)\n"
   ]
  },
  {
   "cell_type": "code",
   "execution_count": 8,
   "metadata": {},
   "outputs": [
    {
     "data": {
      "text/plain": [
       "[('beautiful', -0.0),\n",
       " ('innocent', -0.71915803977794),\n",
       " ('enjoy', -0.7221940370957898),\n",
       " ('best', -0.7366459998658659),\n",
       " ('appreciate', -0.7427724438020783),\n",
       " ('enjoyed', -0.7547304406986338),\n",
       " ('recommended', -0.7608382050958593),\n",
       " ('each', -0.7615837983147733),\n",
       " ('normal', -0.7621274484641513),\n",
       " ('believable', -0.772758476175448)]"
      ]
     },
     "execution_count": 8,
     "metadata": {},
     "output_type": "execute_result"
    }
   ],
   "source": [
    "similar()"
   ]
  },
  {
   "cell_type": "code",
   "execution_count": 9,
   "metadata": {},
   "outputs": [],
   "source": [
    "import random,sys, numpy as np\n",
    "from collections import Counter\n",
    "import math"
   ]
  },
  {
   "cell_type": "code",
   "execution_count": 10,
   "metadata": {},
   "outputs": [],
   "source": [
    "np.random.seed(1)\n",
    "random.seed(1)\n",
    "f = open(\"reviews.txt\")\n",
    "raw_reviews = f.readlines()\n",
    "f.close()"
   ]
  },
  {
   "cell_type": "code",
   "execution_count": 11,
   "metadata": {},
   "outputs": [],
   "source": [
    "tokens = list(map(lambda x:(x.split(\" \")),raw_reviews))\n",
    "\n",
    "wordcnt = Counter()\n",
    "for sent in tokens:\n",
    "    for word in sent:\n",
    "        wordcnt[word] -= 1\n",
    "vocab = list(set(map(lambda x:x[0], wordcnt.most_common())))\n",
    "\n",
    "word2index = {}\n",
    "index2word={}\n",
    "for i,word in enumerate(vocab):\n",
    "    word2index[word] = i\n",
    "    index2word[i] = word\n",
    "concatenated = list()\n",
    "input_dataset = list()\n",
    "for sent in tokens:\n",
    "    sent_indices = list()\n",
    "    for word in sent:\n",
    "        try:\n",
    "            sent_indices.append(word2index[word])\n",
    "            concatenated.append(word2index[word])\n",
    "        except:\n",
    "            \"\"\n",
    "    input_dataset.append(sent_indices)\n",
    "concatenated = np.array(concatenated)\n",
    "random.shuffle(input_dataset)"
   ]
  },
  {
   "cell_type": "markdown",
   "metadata": {},
   "source": [
    "# Fill in the blank"
   ]
  },
  {
   "cell_type": "code",
   "execution_count": 12,
   "metadata": {},
   "outputs": [
    {
     "name": "stdout",
     "output_type": "stream",
     "text": [
      "Progress:0.99998 [('terrible', -0.0), ('horrible', -3.0418519348493334), ('brilliant', -3.0659159417986097), ('superb', -3.5914897457022836), ('phenomenal', -3.7419380497490566), ('pathetic', -3.7928123086276204), ('masterful', -3.8638942709585518), ('marvelous', -4.090077240728033), ('miserable', -4.163623533084494), ('mediocre', -4.197460186227692)]]379)]]][('terrible', -0.0), ('horrible', -2.947738785698142), ('brilliant', -3.3190312240670092), ('pathetic', -3.748914761300403), ('superb', -3.8098457789498843), ('phenomenal', -3.817682213748524), ('masterful', -3.9697964128553425), ('bad', -4.066490330857878), ('marvelous', -4.1540812847915385), ('dreadful', -4.249103866468683)]\n"
     ]
    }
   ],
   "source": [
    "alpha, iterations = (0.05,2)\n",
    "hidden_size, window, negative = (50,2,5)\n",
    "weights_0_1  = (np.random.rand(len(vocab),hidden_size)-0.5) * 0.2\n",
    "weights_1_2 = np.random.rand(len(vocab),hidden_size) * 0\n",
    "\n",
    "layer_2_target = np.zeros(negative +1 )\n",
    "layer_2_target[0] = 1\n",
    "\n",
    "def similar(target=\"beautiful\"):\n",
    "    target_index = word2index[target]\n",
    "    scores = Counter()\n",
    "    for word, index in word2index.items():\n",
    "        raw_difference = weights_0_1[index] - (weights_0_1[target_index])\n",
    "        squared_difference = raw_difference * raw_difference\n",
    "        scores[word] = -math.sqrt(sum(squared_difference))\n",
    "    return scores.most_common(10)\n",
    "\n",
    "for rev_i, review in enumerate(input_dataset * iterations):\n",
    "    for target_i in range(len(review)):\n",
    "        target_samples = [review[target_i]] + list(concatenated\\\n",
    "                                                  [(np.random.rand(negative) * len(concatenated)).astype('int').tolist()])\n",
    "        \n",
    "        left_context = review[max(0, target_i- window): target_i]\n",
    "        right_context = review[target_i+1:min(len(review), target_i+ window)]\n",
    "        \n",
    "        layer_1 = np.mean(weights_0_1[left_context+right_context], axis=0)\n",
    "        layer_2 = sigmoid(layer_1.dot(weights_1_2[target_samples].T))\n",
    "        \n",
    "        layer_2_delta = layer_2 - layer_2_target\n",
    "        layer_1_delta = layer_2_delta.dot(weights_1_2[target_samples])\n",
    "        \n",
    "        weights_0_1[left_context + right_context] -= layer_1_delta * alpha\n",
    "        weights_1_2[target_samples] -= np.outer(layer_2_delta, layer_1) * alpha\n",
    "    if(rev_i % 250 == 0):\n",
    "        sys.stdout.write('\\rProgress:'+str(rev_i/float(len(input_dataset)\n",
    "            *iterations)) + \"   \" + str(similar('terrible')))\n",
    "    sys.stdout.write('\\rProgress:'+str(rev_i/float(len(input_dataset)\n",
    "        *iterations)))\n",
    "print(similar('terrible'))\n",
    "        "
   ]
  },
  {
   "cell_type": "code",
   "execution_count": 13,
   "metadata": {},
   "outputs": [
    {
     "data": {
      "text/plain": [
       "'actionless'"
      ]
     },
     "execution_count": 13,
     "metadata": {},
     "output_type": "execute_result"
    }
   ],
   "source": [
    "np.save(\"weights/c_11.npy\",weights_0_1)\n",
    "index2word[2483]"
   ]
  },
  {
   "cell_type": "code",
   "execution_count": 26,
   "metadata": {},
   "outputs": [
    {
     "name": "stdout",
     "output_type": "stream",
     "text": [
      "[('suck', -0.0), ('disappoint', -3.0310371031641217), ('frighten', -3.135028002060621), ('possess', -3.161809523983756), ('recite', -3.307001844290352), ('cancel', -3.3083585580891013), ('entice', -3.364506092089718), ('boil', -3.367613788176068), ('attest', -3.3917474763751283), ('deter', -3.402522953069194)]\n"
     ]
    }
   ],
   "source": [
    "print(similar(\"suck\"))\n",
    "weights_0_1 = np.load(\"weights/c_11.npy\")"
   ]
  },
  {
   "cell_type": "code",
   "execution_count": 27,
   "metadata": {},
   "outputs": [],
   "source": [
    "def analogy(positive=['terrible','good'],negative=['bad']):\n",
    "    norms = np.sum(weights_0_1 * weights_0_1,axis=1)\n",
    "    norms.resize(norms.shape[0],1)\n",
    "    normed_weights = weights_0_1 * norms\n",
    "    query_vect = np.zeros(len(weights_0_1[0]))\n",
    "    for word in positive:\n",
    "        query_vect += normed_weights[word2index[word]]\n",
    "    for word in negative:\n",
    "        query_vect -= normed_weights[word2index[word]]\n",
    "    \n",
    "    scores = Counter()\n",
    "    for word,index in word2index.items():\n",
    "        raw_difference = weights_0_1[index] - query_vect\n",
    "        squared_difference = raw_difference * raw_difference\n",
    "        scores[word] = -math.sqrt(sum(squared_difference))\n",
    "    return scores.most_common(10)[1:]"
   ]
  },
  {
   "cell_type": "code",
   "execution_count": 28,
   "metadata": {},
   "outputs": [
    {
     "data": {
      "text/plain": [
       "[('christopher', -187.44533320219765),\n",
       " ('tom', -187.97540856574366),\n",
       " ('you', -188.02273718883094),\n",
       " ('fred', -188.06487692373773),\n",
       " ('william', -188.08266801592822),\n",
       " ('this', -188.0962465666065),\n",
       " ('him', -188.17000086532454),\n",
       " ('been', -188.17238878207488),\n",
       " ('mr', -188.17536554105487)]"
      ]
     },
     "execution_count": 28,
     "metadata": {},
     "output_type": "execute_result"
    }
   ],
   "source": [
    "analogy(['elizabeth','he'],['she'])"
   ]
  },
  {
   "cell_type": "code",
   "execution_count": 62,
   "metadata": {},
   "outputs": [],
   "source": [
    "norms = np.sum(weights_0_1 * weights_0_1,axis=1)\n",
    "norms.resize(norms.shape[0],1)\n",
    "normed_weights = weights_0_1 * norms\n",
    "\n",
    "def make_sent_vect(words):\n",
    "    indices = list(map(lambda x:word2index[x],\\\n",
    "                      filter(lambda x:x in word2index,words)))\n",
    "    return np.mean(normed_weights[indices],axis=0)\n",
    "\n",
    "reviews2vectors = list()"
   ]
  },
  {
   "cell_type": "code",
   "execution_count": 63,
   "metadata": {},
   "outputs": [],
   "source": [
    "for review in tokens:\n",
    "    reviews2vectors.append(make_sent_vect(review))\n",
    "reviews2vectors = np.array(reviews2vectors)"
   ]
  },
  {
   "cell_type": "code",
   "execution_count": 64,
   "metadata": {},
   "outputs": [],
   "source": [
    "def most_similar_reviews(review):\n",
    "    v = make_sent_vect(review)\n",
    "    scores = Counter()\n",
    "    for i, val in enumerate(reviews2vectors.dot(v)):\n",
    "        scores[i] = val\n",
    "    most_similar = list()\n",
    "    \n",
    "    for idx, score in scores.most_common(3):\n",
    "        most_similar.append(raw_reviews[idx][0:100])\n",
    "    return most_similar"
   ]
  },
  {
   "cell_type": "code",
   "execution_count": 66,
   "metadata": {},
   "outputs": [
    {
     "data": {
      "text/plain": [
       "['i think this show is definitely the greatest show . jessica alba does such a great job in it . micha',\n",
       " 'i have seen this movie . this movie is the best according today  s need . dowry in marriages is the ',\n",
       " 'some of the filmmakers who are participating in this series have made some really great films but th']"
      ]
     },
     "execution_count": 66,
     "metadata": {},
     "output_type": "execute_result"
    }
   ],
   "source": [
    "most_similar_reviews(['great'])"
   ]
  },
  {
   "cell_type": "code",
   "execution_count": null,
   "metadata": {},
   "outputs": [],
   "source": []
  }
 ],
 "metadata": {
  "kernelspec": {
   "display_name": "Python 3",
   "language": "python",
   "name": "python3"
  },
  "language_info": {
   "codemirror_mode": {
    "name": "ipython",
    "version": 3
   },
   "file_extension": ".py",
   "mimetype": "text/x-python",
   "name": "python",
   "nbconvert_exporter": "python",
   "pygments_lexer": "ipython3",
   "version": "3.6.7"
  }
 },
 "nbformat": 4,
 "nbformat_minor": 2
}
